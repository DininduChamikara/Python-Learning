{
 "cells": [
  {
   "cell_type": "code",
   "execution_count": null,
   "id": "edd480a1",
   "metadata": {},
   "outputs": [],
   "source": [
    "def pour_water(juga, jugb):\n",
    "    max1, max2, fill= 4, 3, 2 #Change maximum and final capacity \n",
    "    print(\"%d\\t%d\" % (juga, jugb))\n",
    "    if jugb== fill:\n",
    "        return\n",
    "    elif jugb == max2:\n",
    "        pour_water (0, juga)\n",
    "    elif juga != 0 and jugb == 0:\n",
    "        pour_water (0, juga)\n",
    "    elif juga == fill:\n",
    "        pour_water (juga, e)\n",
    "    elif juga < max1:\n",
    "        pour_water(max1, jugb)\n",
    "    elif juga < (max2-jugb):\n",
    "        pour_water (0, (juga+jugb))\n",
    "    else:\n",
    "        pour_water (juga-(max2-jugb), (max2-jugb)+jugb)\n",
    "    \n",
    "print(\"JUG A \\tJUG B\")\n",
    "pour_water(0, 0)"
   ]
  },
  {
   "cell_type": "code",
   "execution_count": null,
   "id": "a2dcaa29",
   "metadata": {},
   "outputs": [],
   "source": []
  }
 ],
 "metadata": {
  "kernelspec": {
   "display_name": "Python 3 (ipykernel)",
   "language": "python",
   "name": "python3"
  },
  "language_info": {
   "codemirror_mode": {
    "name": "ipython",
    "version": 3
   },
   "file_extension": ".py",
   "mimetype": "text/x-python",
   "name": "python",
   "nbconvert_exporter": "python",
   "pygments_lexer": "ipython3",
   "version": "3.9.12"
  }
 },
 "nbformat": 4,
 "nbformat_minor": 5
}
