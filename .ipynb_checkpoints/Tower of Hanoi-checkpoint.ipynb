{
 "cells": [
  {
   "cell_type": "markdown",
   "id": "93399874",
   "metadata": {},
   "source": [
    "Tower of Hanoi is a mathematical puzzle where we have three rods and n disks. The objective of the puzzle is to move the entire stack to another rod, obeying the following simple rules: \n",
    "1) Only one disk can be moved at a time. \n",
    "\n",
    "2) Each move consists of taking the upper disk from one of the stacks and placing it on top of another stack i.e. a disk can only be moved if it is the uppermost disk on a stack. \n",
    "\n",
    "3) No disk may be placed on top of a smaller disk.\n",
    "Note: Transferring the top n-1 disks from source rod to Auxiliary rod can again be thought of as a fresh problem and can be solved in the same manner."
   ]
  },
  {
   "cell_type": "code",
   "execution_count": 3,
   "id": "154c23fb",
   "metadata": {},
   "outputs": [
    {
     "name": "stdout",
     "output_type": "stream",
     "text": [
      "Move disk 1 from source A to destination C\n",
      "Move disk 2 from source A to destination B\n",
      "Move disk 1 from source C to destination B\n",
      "Move disk 3 from source A to destination C\n",
      "Move disk 1 from source B to destination A\n",
      "Move disk 2 from source B to destination C\n",
      "Move disk 1 from source A to destination C\n",
      "Move disk 4 from source A to destination B\n",
      "Move disk 1 from source C to destination B\n",
      "Move disk 2 from source C to destination A\n",
      "Move disk 1 from source B to destination A\n",
      "Move disk 3 from source C to destination B\n",
      "Move disk 1 from source A to destination C\n",
      "Move disk 2 from source A to destination B\n",
      "Move disk 1 from source C to destination B\n"
     ]
    }
   ],
   "source": [
    "# Recursive Python function to solve the tower of hanoi\n",
    "\n",
    "def TowerOfHanoi ( n, source, destination, auxiliary):\n",
    "    if n == 1:\n",
    "        print (\"Move disk 1 from source\", source, \"to destination\", destination)\n",
    "        return\n",
    "    TowerOfHanoi(n - 1, source, auxiliary, destination)\n",
    "    print (\"Move disk\", n , \"from source\", source, \"to destination\", destination)\n",
    "    TowerOfHanoi(n-1, auxiliary, destination, source)\n",
    "    \n",
    "# Driver code \n",
    "n = 4\n",
    "TowerOfHanoi(n, 'A', 'B', 'C')\n",
    "# A, B, C are the name of rods\n"
   ]
  },
  {
   "cell_type": "code",
   "execution_count": null,
   "id": "e54ae7ae",
   "metadata": {},
   "outputs": [],
   "source": []
  }
 ],
 "metadata": {
  "kernelspec": {
   "display_name": "Python 3 (ipykernel)",
   "language": "python",
   "name": "python3"
  },
  "language_info": {
   "codemirror_mode": {
    "name": "ipython",
    "version": 3
   },
   "file_extension": ".py",
   "mimetype": "text/x-python",
   "name": "python",
   "nbconvert_exporter": "python",
   "pygments_lexer": "ipython3",
   "version": "3.9.12"
  }
 },
 "nbformat": 4,
 "nbformat_minor": 5
}
