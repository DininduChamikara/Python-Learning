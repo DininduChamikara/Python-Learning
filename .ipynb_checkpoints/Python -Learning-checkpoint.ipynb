{
 "cells": [
  {
   "cell_type": "code",
   "execution_count": null,
   "id": "02f191b1",
   "metadata": {},
   "outputs": [],
   "source": [
    "print(\"hello\")"
   ]
  },
  {
   "cell_type": "markdown",
   "id": "0ab8f69c",
   "metadata": {},
   "source": [
    "## pwd stands for Print Working Directory"
   ]
  },
  {
   "cell_type": "code",
   "execution_count": 4,
   "id": "f4950cf3",
   "metadata": {},
   "outputs": [
    {
     "data": {
      "text/plain": [
       "'C:\\\\Users\\\\acer'"
      ]
     },
     "execution_count": 4,
     "metadata": {},
     "output_type": "execute_result"
    }
   ],
   "source": [
    "pwd"
   ]
  },
  {
   "cell_type": "code",
   "execution_count": 3,
   "id": "cdd752e9",
   "metadata": {
    "scrolled": true
   },
   "outputs": [
    {
     "data": {
      "text/plain": [
       "'C:\\\\Users\\\\acer'"
      ]
     },
     "execution_count": 3,
     "metadata": {},
     "output_type": "execute_result"
    }
   ],
   "source": [
    "pwd"
   ]
  },
  {
   "cell_type": "markdown",
   "id": "e9a46745",
   "metadata": {},
   "source": [
    "## Data Types"
   ]
  },
  {
   "cell_type": "code",
   "execution_count": 5,
   "id": "7d57c43b",
   "metadata": {},
   "outputs": [
    {
     "name": "stdout",
     "output_type": "stream",
     "text": [
      "5 python 189.5\n"
     ]
    }
   ],
   "source": [
    "a = 5\n",
    "b = \"python\"\n",
    "c = 189.5\n",
    "\n",
    "print (a,b,c)"
   ]
  },
  {
   "cell_type": "code",
   "execution_count": 6,
   "id": "c6b5195f",
   "metadata": {},
   "outputs": [
    {
     "name": "stdout",
     "output_type": "stream",
     "text": [
      "hello world\n"
     ]
    }
   ],
   "source": [
    "a = \"hello world\"\n",
    "print(a)"
   ]
  },
  {
   "cell_type": "code",
   "execution_count": 7,
   "id": "ae7ed937",
   "metadata": {},
   "outputs": [
    {
     "name": "stdout",
     "output_type": "stream",
     "text": [
      "h\n"
     ]
    }
   ],
   "source": [
    "print(a[0])"
   ]
  },
  {
   "cell_type": "code",
   "execution_count": 8,
   "id": "ff76e91b",
   "metadata": {},
   "outputs": [
    {
     "name": "stdout",
     "output_type": "stream",
     "text": [
      "ello \n"
     ]
    }
   ],
   "source": [
    "print(a[1:6])"
   ]
  },
  {
   "cell_type": "code",
   "execution_count": 9,
   "id": "716d28e8",
   "metadata": {},
   "outputs": [
    {
     "name": "stdout",
     "output_type": "stream",
     "text": [
      "11\n"
     ]
    }
   ],
   "source": [
    "print(len(a))"
   ]
  },
  {
   "cell_type": "code",
   "execution_count": 10,
   "id": "e2019c7d",
   "metadata": {},
   "outputs": [
    {
     "name": "stdout",
     "output_type": "stream",
     "text": [
      "hello world\n"
     ]
    }
   ],
   "source": [
    "print(a.lower())"
   ]
  },
  {
   "cell_type": "code",
   "execution_count": 11,
   "id": "8492a607",
   "metadata": {},
   "outputs": [
    {
     "name": "stdout",
     "output_type": "stream",
     "text": [
      "HELLO WORLD\n"
     ]
    }
   ],
   "source": [
    "print(a.upper())"
   ]
  },
  {
   "cell_type": "code",
   "execution_count": 13,
   "id": "e0ea7edf",
   "metadata": {},
   "outputs": [
    {
     "name": "stdout",
     "output_type": "stream",
     "text": [
      "dello world\n"
     ]
    }
   ],
   "source": [
    "print(a.replace(\"h\", \"d\"))"
   ]
  },
  {
   "cell_type": "code",
   "execution_count": 15,
   "id": "bb573154",
   "metadata": {},
   "outputs": [
    {
     "name": "stdout",
     "output_type": "stream",
     "text": [
      "Enter your name : Dinindu\n"
     ]
    }
   ],
   "source": [
    "name = input(\"Enter your name : \")"
   ]
  },
  {
   "cell_type": "code",
   "execution_count": 16,
   "id": "35498dbf",
   "metadata": {
    "scrolled": true
   },
   "outputs": [
    {
     "name": "stdout",
     "output_type": "stream",
     "text": [
      "Dinindu\n"
     ]
    }
   ],
   "source": [
    "print(name)"
   ]
  },
  {
   "cell_type": "markdown",
   "id": "6b3c984a",
   "metadata": {},
   "source": [
    "## Loops"
   ]
  },
  {
   "cell_type": "code",
   "execution_count": 17,
   "id": "5becdcd9",
   "metadata": {},
   "outputs": [],
   "source": [
    "movies = [\"harry potter\", \"braveheart\", \"hobit\"]"
   ]
  },
  {
   "cell_type": "code",
   "execution_count": 18,
   "id": "da6f363c",
   "metadata": {},
   "outputs": [
    {
     "name": "stdout",
     "output_type": "stream",
     "text": [
      "harry potter\n",
      "braveheart\n",
      "hobit\n"
     ]
    }
   ],
   "source": [
    "for m in movies: \n",
    "    print(m)"
   ]
  },
  {
   "cell_type": "markdown",
   "id": "c02aafb2",
   "metadata": {},
   "source": [
    "## About Python Formatted String Literals or f-string"
   ]
  },
  {
   "cell_type": "code",
   "execution_count": 19,
   "id": "659fea49",
   "metadata": {},
   "outputs": [],
   "source": [
    "car = \"toyota\""
   ]
  },
  {
   "cell_type": "code",
   "execution_count": 20,
   "id": "47950b86",
   "metadata": {},
   "outputs": [
    {
     "name": "stdout",
     "output_type": "stream",
     "text": [
      "The car infront of you is a toyota\n"
     ]
    }
   ],
   "source": [
    "print(f'The car infront of you is a {car}')"
   ]
  },
  {
   "cell_type": "code",
   "execution_count": 21,
   "id": "902e9598",
   "metadata": {},
   "outputs": [
    {
     "name": "stdout",
     "output_type": "stream",
     "text": [
      "the car infront of you is a toyota\n"
     ]
    }
   ],
   "source": [
    "print('the car infront of you is a {var}'.format(var=car))"
   ]
  },
  {
   "cell_type": "code",
   "execution_count": 22,
   "id": "cc2ff296",
   "metadata": {},
   "outputs": [
    {
     "name": "stdout",
     "output_type": "stream",
     "text": [
      "the car infront of you is a 'toyota'\n"
     ]
    }
   ],
   "source": [
    "print(f'the car infront of you is a {car !r}')"
   ]
  },
  {
   "cell_type": "markdown",
   "id": "28d0f7ef",
   "metadata": {},
   "source": [
    "## Width"
   ]
  },
  {
   "cell_type": "code",
   "execution_count": 24,
   "id": "7f9fadd4",
   "metadata": {},
   "outputs": [],
   "source": [
    "movies = [('Name', 'Genre', 'Country'), ('Twilight', 'Romance', 'US'), ('HP', 'Fantacy', 'UK'), ('FF', 'Adventure', 'US')]"
   ]
  },
  {
   "cell_type": "code",
   "execution_count": 25,
   "id": "42e72995",
   "metadata": {},
   "outputs": [
    {
     "name": "stdout",
     "output_type": "stream",
     "text": [
      "Name            Genre      Country   \n",
      "Twilight        Romance    US        \n",
      "HP              Fantacy    UK        \n",
      "FF              Adventure  US        \n"
     ]
    }
   ],
   "source": [
    "for mv in movies:\n",
    "    print(f'{mv[0]:{15}} {mv[1]:{10}} {mv[2]:{10}}')"
   ]
  },
  {
   "cell_type": "markdown",
   "id": "a01da897",
   "metadata": {},
   "source": [
    "## Alignment"
   ]
  },
  {
   "cell_type": "code",
   "execution_count": 26,
   "id": "d4e63066",
   "metadata": {},
   "outputs": [
    {
     "name": "stdout",
     "output_type": "stream",
     "text": [
      "Name            Genre      ...Country\n",
      "Twilight        Romance    ........US\n",
      "HP              Fantacy    ........UK\n",
      "FF              Adventure  ........US\n"
     ]
    }
   ],
   "source": [
    "for mv in movies:\n",
    "    print(f'{mv[0]:{15}} {mv[1]:{10}} {mv[2]:.>{10}}')"
   ]
  },
  {
   "cell_type": "code",
   "execution_count": 27,
   "id": "73e63915",
   "metadata": {},
   "outputs": [
    {
     "name": "stdout",
     "output_type": "stream",
     "text": [
      "Name            Genre      Country...\n",
      "Twilight        Romance    US........\n",
      "HP              Fantacy    UK........\n",
      "FF              Adventure  US........\n"
     ]
    }
   ],
   "source": [
    "for mv in movies:\n",
    "    print(f'{mv[0]:{15}} {mv[1]:{10}} {mv[2]:.<{10}}')"
   ]
  },
  {
   "cell_type": "code",
   "execution_count": 28,
   "id": "5fa2facd",
   "metadata": {},
   "outputs": [
    {
     "name": "stdout",
     "output_type": "stream",
     "text": [
      "Name            Genre      .Country..\n",
      "Twilight        Romance    ....US....\n",
      "HP              Fantacy    ....UK....\n",
      "FF              Adventure  ....US....\n"
     ]
    }
   ],
   "source": [
    "for mv in movies:\n",
    "    print(f'{mv[0]:{15}} {mv[1]:{10}} {mv[2]:.^{10}}')"
   ]
  },
  {
   "cell_type": "markdown",
   "id": "4f22a218",
   "metadata": {},
   "source": [
    "## Date and Time"
   ]
  },
  {
   "cell_type": "code",
   "execution_count": 29,
   "id": "02f8d38f",
   "metadata": {},
   "outputs": [],
   "source": [
    "from datetime import datetime\n",
    "\n",
    "day = datetime(year = 2019, month = 2, day = 11)"
   ]
  },
  {
   "cell_type": "code",
   "execution_count": 30,
   "id": "4c05f902",
   "metadata": {},
   "outputs": [
    {
     "name": "stdout",
     "output_type": "stream",
     "text": [
      " February 11, 2019\n"
     ]
    }
   ],
   "source": [
    "print(f'{day: %B %d, %Y}')"
   ]
  },
  {
   "cell_type": "code",
   "execution_count": 32,
   "id": "c102ad5b",
   "metadata": {},
   "outputs": [],
   "source": [
    "para = \"Lorem Ipsum is simply dummy text of the printing and typesetting industry. Lorem Ipsum has been the industry's standard dummy text ever since the 1500s, when an unknown printer took a galley of type and scrambled it to make a type specimen book. It has survived not only five centuries, but also the leap into electronic typesetting, remaining essentially unchanged. It was popularised in the 1960s with the release of Letraset sheets containing Lorem Ipsum passages, and more recently with desktop publishing software like Aldus PageMaker including versions of Lorem Ipsum.\""
   ]
  },
  {
   "cell_type": "markdown",
   "id": "52bf6671",
   "metadata": {},
   "source": [
    "## regular expression"
   ]
  },
  {
   "cell_type": "code",
   "execution_count": 33,
   "id": "ab93a193",
   "metadata": {},
   "outputs": [],
   "source": [
    "para = \"Lorem Ipsum is simply dummy text of the printing and typesetting industry. Lorem Ipsum has been the industry's standard dummy text ever since the 1500s, when an unknown printer took a galley of type and scrambled it to make a type specimen book. It has survived not only five centuries, but also the leap into electronic typesetting, remaining essentially unchanged. It was popularised in the 1960s with the release of Letraset sheets containing Lorem Ipsum passages, and more recently with desktop publishing software like Aldus PageMaker including versions of Lorem Ipsum.\""
   ]
  },
  {
   "cell_type": "code",
   "execution_count": 34,
   "id": "6cea2d6c",
   "metadata": {},
   "outputs": [
    {
     "data": {
      "text/plain": [
       "True"
      ]
     },
     "execution_count": 34,
     "metadata": {},
     "output_type": "execute_result"
    }
   ],
   "source": [
    "'text' in para"
   ]
  },
  {
   "cell_type": "code",
   "execution_count": 35,
   "id": "43b2d41e",
   "metadata": {},
   "outputs": [
    {
     "data": {
      "text/plain": [
       "False"
      ]
     },
     "execution_count": 35,
     "metadata": {},
     "output_type": "execute_result"
    }
   ],
   "source": [
    "'iMac' in para"
   ]
  },
  {
   "cell_type": "code",
   "execution_count": 36,
   "id": "41b3ee95",
   "metadata": {},
   "outputs": [],
   "source": [
    "import re as regex"
   ]
  },
  {
   "cell_type": "code",
   "execution_count": 37,
   "id": "c17d5928",
   "metadata": {},
   "outputs": [],
   "source": [
    "linePattern = 'Lorem'"
   ]
  },
  {
   "cell_type": "code",
   "execution_count": 38,
   "id": "87a95b46",
   "metadata": {},
   "outputs": [
    {
     "data": {
      "text/plain": [
       "<re.Match object; span=(0, 5), match='Lorem'>"
      ]
     },
     "execution_count": 38,
     "metadata": {},
     "output_type": "execute_result"
    }
   ],
   "source": [
    "regex.search(linePattern, para)"
   ]
  },
  {
   "cell_type": "code",
   "execution_count": 39,
   "id": "a0eb5cc5",
   "metadata": {},
   "outputs": [],
   "source": [
    "linePatteren2 = 'simply'"
   ]
  },
  {
   "cell_type": "code",
   "execution_count": 40,
   "id": "f70b01bf",
   "metadata": {},
   "outputs": [
    {
     "data": {
      "text/plain": [
       "<re.Match object; span=(15, 21), match='simply'>"
      ]
     },
     "execution_count": 40,
     "metadata": {},
     "output_type": "execute_result"
    }
   ],
   "source": [
    "regex.search(linePatteren2, para)"
   ]
  },
  {
   "cell_type": "code",
   "execution_count": 41,
   "id": "fa943221",
   "metadata": {},
   "outputs": [],
   "source": [
    "matchingWord = regex.search(linePatteren2, para)"
   ]
  },
  {
   "cell_type": "code",
   "execution_count": 43,
   "id": "b5572fa5",
   "metadata": {},
   "outputs": [
    {
     "data": {
      "text/plain": [
       "(15, 21)"
      ]
     },
     "execution_count": 43,
     "metadata": {},
     "output_type": "execute_result"
    }
   ],
   "source": [
    "matchingWord.span()"
   ]
  },
  {
   "cell_type": "code",
   "execution_count": 44,
   "id": "6531fc23",
   "metadata": {},
   "outputs": [
    {
     "data": {
      "text/plain": [
       "15"
      ]
     },
     "execution_count": 44,
     "metadata": {},
     "output_type": "execute_result"
    }
   ],
   "source": [
    "matchingWord.start()"
   ]
  },
  {
   "cell_type": "code",
   "execution_count": 45,
   "id": "0a88b354",
   "metadata": {},
   "outputs": [
    {
     "data": {
      "text/plain": [
       "21"
      ]
     },
     "execution_count": 45,
     "metadata": {},
     "output_type": "execute_result"
    }
   ],
   "source": [
    "matchingWord.end()"
   ]
  },
  {
   "cell_type": "code",
   "execution_count": 1,
   "id": "46622570",
   "metadata": {},
   "outputs": [
    {
     "ename": "NameError",
     "evalue": "name 'regex' is not defined",
     "output_type": "error",
     "traceback": [
      "\u001b[1;31m---------------------------------------------------------------------------\u001b[0m",
      "\u001b[1;31mNameError\u001b[0m                                 Traceback (most recent call last)",
      "Input \u001b[1;32mIn [1]\u001b[0m, in \u001b[0;36m<cell line: 1>\u001b[1;34m()\u001b[0m\n\u001b[1;32m----> 1\u001b[0m matchingWord \u001b[38;5;241m=\u001b[39m \u001b[43mregex\u001b[49m\u001b[38;5;241m.\u001b[39msearch(\u001b[38;5;124m\"\u001b[39m\u001b[38;5;124mlorem\u001b[39m\u001b[38;5;124m\"\u001b[39m, para)\n",
      "\u001b[1;31mNameError\u001b[0m: name 'regex' is not defined"
     ]
    }
   ],
   "source": [
    "matchingWord = regex.search(\"lorem\", para)"
   ]
  },
  {
   "cell_type": "code",
   "execution_count": null,
   "id": "37e1d70d",
   "metadata": {},
   "outputs": [],
   "source": []
  }
 ],
 "metadata": {
  "kernelspec": {
   "display_name": "Python 3 (ipykernel)",
   "language": "python",
   "name": "python3"
  },
  "language_info": {
   "codemirror_mode": {
    "name": "ipython",
    "version": 3
   },
   "file_extension": ".py",
   "mimetype": "text/x-python",
   "name": "python",
   "nbconvert_exporter": "python",
   "pygments_lexer": "ipython3",
   "version": "3.9.12"
  }
 },
 "nbformat": 4,
 "nbformat_minor": 5
}
