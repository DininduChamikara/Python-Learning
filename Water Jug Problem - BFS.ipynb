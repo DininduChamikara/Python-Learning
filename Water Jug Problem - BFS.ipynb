{
 "cells": [
  {
   "cell_type": "markdown",
   "id": "f70f205e",
   "metadata": {},
   "source": [
    "## Problem"
   ]
  },
  {
   "cell_type": "markdown",
   "id": "ef672f2d",
   "metadata": {},
   "source": [
    "There are 2 water jugs of 4L and 3L.\n",
    "We need to get 2L measure using above 2 water jugs.\n",
    "There is a unlimted water supply."
   ]
  },
  {
   "cell_type": "markdown",
   "id": "57a68786",
   "metadata": {},
   "source": [
    "And according to the problem statement, at any given state we can do either of the following operations:\n",
    "    1. Fill a jug\n",
    "    2. Empty a jug\n",
    "    3. Transfer water from one jug to another untill either of them get completely fiiled or empty."
   ]
  },
  {
   "attachments": {},
   "cell_type": "markdown",
   "id": "6cbff67d",
   "metadata": {},
   "source": [
    "## Solution"
   ]
  },
  {
   "cell_type": "code",
   "execution_count": 7,
   "id": "9e12e874",
   "metadata": {},
   "outputs": [
    {
     "name": "stdout",
     "output_type": "stream",
     "text": [
      "Solution path is \n",
      "( 0 , 0 )\n",
      "( 0 , 3 )\n",
      "( 4 , 0 )\n",
      "( 4 , 3 )\n",
      "( 3 , 0 )\n",
      "( 1 , 3 )\n",
      "( 3 , 3 )\n",
      "( 4 , 2 )\n",
      "( 0 , 2 )\n"
     ]
    }
   ],
   "source": [
    "from collections import deque\n",
    "\n",
    "def BFS(a, b, target):\n",
    "    \n",
    "    # to store visited states\n",
    "    m = {}\n",
    "    isSolvable = False\n",
    "    path = []\n",
    "    \n",
    "    # define a double ended que\n",
    "    q = deque()\n",
    "    \n",
    "    # initial state\n",
    "    q.append((0,0))\n",
    "    \n",
    "    while (len(q) > 0):\n",
    "        # if this state is already visited\n",
    "        # u means the final status of water jugs \n",
    "        # u[0] = state of water jug 1\n",
    "        # u[1] = state of water jug 2\n",
    "        u = q.popleft()\n",
    "        \n",
    "        # if the state is already visited the loop will run again from the beginning \n",
    "        if ((u[0], u[1]) in m):\n",
    "            continue\n",
    "        \n",
    "        # to remove impossible states\n",
    "        if ((u[0] > a or u[1] > b or u[0] < 0 or u[1]<0)):\n",
    "            continue\n",
    "        \n",
    "        path.append([u[0], u[1]])\n",
    "        \n",
    "        # make current state as visited \n",
    "        m[u[0], u[1]] = 1\n",
    "        \n",
    "        # if we reach the solution \n",
    "        if (u[0] == target or u[1] == target):\n",
    "            isSolvable = True\n",
    "            \n",
    "            # check the other jugs state and set it empty\n",
    "            if (u[0] == target):\n",
    "                if (u[1] != 0):\n",
    "                    \n",
    "                    # Fill final state\n",
    "                    path.append([u[0], 0])\n",
    "            \n",
    "            else: \n",
    "                if (u[0] != 0):\n",
    "                    \n",
    "                    # Fill final state\n",
    "                    path.append([0, u[1]])\n",
    "                    \n",
    "            # print the solution path\n",
    "            solutionPathSize = len(path)\n",
    "            for i in range(solutionPathSize):\n",
    "                print (\"(\", path[i][0], \",\", path[i][1], \")\")\n",
    "                \n",
    "            break\n",
    "        \n",
    "        # if we have not reached final state then we need intermediate \n",
    "        # state to reach the solution \n",
    "        q.append([u[0], b]) # fill jug 2\n",
    "        q.append([a, u[1]]) # fill jug 1\n",
    "        \n",
    "        # transfering water from one to another\n",
    "        # ap = amount of pouring\n",
    "        for ap in range(max(a,b) + 1):\n",
    "            \n",
    "            # Pour amount ap from jug2 to jug1\n",
    "            c = u[0] + ap\n",
    "            d = u[1] - ap\n",
    "            \n",
    "            # check if the state is posible\n",
    "            if (c == a or (d == 0 and d >= 0)):\n",
    "                q.append([c, d])\n",
    "                \n",
    "            # pour amount ap from jug1 to jug2\n",
    "            c = u[0] - ap\n",
    "            d = u[1] + ap\n",
    "            \n",
    "            # check if this state is possible\n",
    "            if ((c == 0 and c >= 0) or d == b):\n",
    "                q.append([c, d])\n",
    "                \n",
    "        # Empty jug2\n",
    "        q.append([a, 0])\n",
    "        \n",
    "        # Empty jug1\n",
    "        q.append([0, b])\n",
    "        \n",
    "    # No Solution\n",
    "    if (not isSolvable):\n",
    "        print(\"No Solution\")\n",
    "        \n",
    "# Driver code\n",
    "jug1, jug2, target = 4, 3, 2\n",
    "\n",
    "print(\"Solution path is \")\n",
    "BFS(jug1, jug2, target)\n",
    "        "
   ]
  },
  {
   "cell_type": "code",
   "execution_count": null,
   "id": "29e3f993",
   "metadata": {},
   "outputs": [],
   "source": []
  },
  {
   "cell_type": "markdown",
   "id": "87cbb662",
   "metadata": {},
   "source": []
  }
 ],
 "metadata": {
  "kernelspec": {
   "display_name": "Python 3 (ipykernel)",
   "language": "python",
   "name": "python3"
  },
  "language_info": {
   "codemirror_mode": {
    "name": "ipython",
    "version": 3
   },
   "file_extension": ".py",
   "mimetype": "text/x-python",
   "name": "python",
   "nbconvert_exporter": "python",
   "pygments_lexer": "ipython3",
   "version": "3.9.12"
  }
 },
 "nbformat": 4,
 "nbformat_minor": 5
}
